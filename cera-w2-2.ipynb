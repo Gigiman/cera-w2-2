{
 "cells": [
  {
   "cell_type": "code",
   "execution_count": 36,
   "metadata": {},
   "outputs": [
    {
     "name": "stdout",
     "output_type": "stream",
     "text": [
      "3.252216865271419\n",
      "0.6352214195786656\n",
      "[ 3.43914511 -0.18692825]\n"
     ]
    }
   ],
   "source": [
    "# Сформируйте систему линейных уравнений (то есть задайте матрицу коэффициентов A и свободный вектор b) \n",
    "# для многочлена первой степени, который должен совпадать с функцией f в точках 1 и 15. \n",
    "# Решите данную систему с помощью функции scipy.linalg.solve. Нарисуйте функцию f и полученный многочлен. \n",
    "# Хорошо ли он приближает исходную функцию?\n",
    "import numpy as np\n",
    "import math\n",
    "# import scipy\n",
    "# import matplotlib.pyplot as plot\n",
    "\n",
    "matrix = []\n",
    "\n",
    "def countFunction(x):\n",
    "    return math.sin(x / 5) * math.exp(x / 10) + 5 * math.exp(-x / 2)\n",
    "\n",
    "y1 = countFunction(1.0)\n",
    "print(y1)\n",
    "y2 = countFunction(15.0)\n",
    "print(y2)\n",
    "\n",
    "# w0 + w1 * 1 = 3.252216865271419\n",
    "# w0 + w1 * 15 = 0.6352214195786656\n",
    "\n",
    "a = np.array([[1., 1.],[1., 15.]])\n",
    "b = np.array([3.252216865271419, 0.6352214195786656])\n",
    "\n",
    "# answer1 = scipy.linalg.solve(a, b) -> выдает ошибку module scipy doesnt have linalg method\n",
    "answer1 = np.linalg.solve(a, b)\n",
    "\n",
    "print(answer1)\n",
    "\n",
    "# initial_x = np.arange(1, 16, 0.1)\n",
    "# initial_y = [countFunction(x) for x in initial_x]\n",
    "\n",
    "# plot(initial_x, initial_y)"
   ]
  },
  {
   "cell_type": "code",
   "execution_count": 42,
   "metadata": {},
   "outputs": [
    {
     "name": "stdout",
     "output_type": "stream",
     "text": [
      "3.252216865271419 2.316170159053224 0.6352214195786656\n",
      "[ 3.32512949 -0.06531159 -0.00760104]\n"
     ]
    }
   ],
   "source": [
    "# Повторите те же шаги для многочлена второй степени, который совпадает с функцией f в точках 1, 8 и 15. \n",
    "# Улучшилось ли качество аппроксимации?\n",
    "qy1 = countFunction(1.)\n",
    "qy2 = countFunction(8.)\n",
    "qy3 = countFunction(15.)\n",
    "\n",
    "print(qy1, qy2, qy3)\n",
    "\n",
    "# w0 + w1*1. + w2*1.**2 = 3.252216865271419\n",
    "# w0 + w1*8. + w2*8.**2 = 2.316170159053224\n",
    "# w0 + w1*15. + w2*15.**2 = 0.6352214195786656\n",
    "\n",
    "qa = np.array([[1., 1., 1.], [1., 8., 64.], [1., 15., 225.]])\n",
    "qb = np.array([qy1, qy2, qy3])\n",
    "\n",
    "answer2 = np.linalg.solve(qa, qb)\n",
    "print(answer2)"
   ]
  },
  {
   "cell_type": "code",
   "execution_count": 49,
   "metadata": {},
   "outputs": [
    {
     "name": "stdout",
     "output_type": "stream",
     "text": [
      "3375.0\n",
      "3.252216865271419 1.7468459495903677 2.5054164070002463 0.6352214195786656\n",
      "[ 4.36264154 -1.29552587  0.19333685 -0.00823565]\n"
     ]
    }
   ],
   "source": [
    "# Повторите те же шаги для многочлена третьей степени, который совпадает с функцией f в точках 1, 4, 10 и 15. \n",
    "# Хорошо ли он аппроксимирует функцию? \n",
    "# Коэффициенты данного многочлена (четыре числа в следующем порядке: w_0, w_1, w_2, w_3) являются ответом на задачу. \n",
    "# Округлять коэффициенты не обязательно, но при желании можете произвести округление до второго знака (т.е. до числа вида 0.42)\n",
    "ty1 = countFunction(1.)\n",
    "ty2 = countFunction(4.)\n",
    "ty3 = countFunction(10.)\n",
    "ty4 = countFunction(15.)\n",
    "\n",
    "# w0 + w1*1. + w2*1.**2 = 3.252216865271419\n",
    "# w0 + w1*4. + w2*4.**2 + w3*4.**3 = 2.316170159053224\n",
    "# w0 + w1*10. + w2*10.**2 + w3*10.**3 = 0.6352214195786656\n",
    "# w0 + w1*15. + w2*15.**2 + w3*15.**3 = 0.6352214195786656\n",
    "\n",
    "print(15.**3)\n",
    "\n",
    "ta = np.array([[1., 1., 1., 1.], [1., 4., 16., 64.0], [1., 10., 100., 1000.], [1., 15., 225., 3375.0]])\n",
    "tb = np.array([ty1, ty2, ty3, ty4])\n",
    "print(ty1, ty2, ty3, ty4)\n",
    "\n",
    "answer3 = np.linalg.solve(ta, tb)\n",
    "print(answer3)\n"
   ]
  },
  {
   "cell_type": "code",
   "execution_count": 51,
   "metadata": {},
   "outputs": [],
   "source": [
    "# Запишите полученные числа в файл, разделив пробелами. \n",
    "# Обратите внимание, что файл должен состоять из одной строки, в конце которой не должно быть переноса. \n",
    "# Пример файла с решением вы можете найти в конце задания (submission-2.txt).\n",
    "f = open(\"cera_w2_2.txt\",\"w+\")\n",
    "for i in answer3:\n",
    "    f.write(str(i) + ' ')\n",
    "f.close()\n"
   ]
  },
  {
   "cell_type": "code",
   "execution_count": null,
   "metadata": {},
   "outputs": [],
   "source": []
  }
 ],
 "metadata": {
  "kernelspec": {
   "display_name": "Python 3",
   "language": "python",
   "name": "python3"
  },
  "language_info": {
   "codemirror_mode": {
    "name": "ipython",
    "version": 3
   },
   "file_extension": ".py",
   "mimetype": "text/x-python",
   "name": "python",
   "nbconvert_exporter": "python",
   "pygments_lexer": "ipython3",
   "version": "3.7.3"
  }
 },
 "nbformat": 4,
 "nbformat_minor": 2
}
